{
 "cells": [
  {
   "cell_type": "markdown",
   "id": "c2f54aff",
   "metadata": {},
   "source": [
    "learning numpy from chai aur code"
   ]
  },
  {
   "cell_type": "code",
   "execution_count": 3,
   "id": "5ceeefcc",
   "metadata": {},
   "outputs": [],
   "source": [
    "\n",
    "import numpy as np "
   ]
  },
  {
   "cell_type": "code",
   "execution_count": 4,
   "id": "f5cc1a93",
   "metadata": {},
   "outputs": [
    {
     "name": "stdout",
     "output_type": "stream",
     "text": [
      "1d array is :  [1 2 3 4 5]\n"
     ]
    }
   ],
   "source": [
    "array_1d=np.array([1,2,3,4,5])\n",
    "print(\"1d array is : \",array_1d)"
   ]
  },
  {
   "cell_type": "markdown",
   "id": "888ab64f",
   "metadata": {},
   "source": [
    "### for creating a 2d array we should pass the array as one list"
   ]
  },
  {
   "cell_type": "code",
   "execution_count": 5,
   "id": "4111b393",
   "metadata": {},
   "outputs": [
    {
     "name": "stdout",
     "output_type": "stream",
     "text": [
      "2d array is:  [[1 2 3 4]\n",
      " [0 8 8 7]]\n"
     ]
    }
   ],
   "source": [
    "array_2d=np.array([[1,2,3,4],[0,8,8,7]])\n",
    "print(\"2d array is: \",array_2d)"
   ]
  },
  {
   "cell_type": "markdown",
   "id": "bcadbfd7",
   "metadata": {},
   "source": [
    "### python list VS numpy array"
   ]
  },
  {
   "cell_type": "code",
   "execution_count": 6,
   "id": "6ff36f0c",
   "metadata": {},
   "outputs": [
    {
     "name": "stdout",
     "output_type": "stream",
     "text": [
      "mulitplication operation for python list:  [1, 2, 3, 4, 5, 1, 2, 3, 4, 5]\n",
      "mulitplication operation for numpy array:  [ 2  4  6  8 10]\n"
     ]
    }
   ],
   "source": [
    "py_list=[1,2,3,4,5]\n",
    "print(\"mulitplication operation for python list: \",py_list*2)\n",
    "\n",
    "np_array=np.array([1,2,3,4,5])\n",
    "print(\"mulitplication operation for numpy array: \",np_array*2)"
   ]
  },
  {
   "cell_type": "code",
   "execution_count": 7,
   "id": "498db87b",
   "metadata": {},
   "outputs": [
    {
     "name": "stdout",
     "output_type": "stream",
     "text": [
      "python list operation time taken:  0.008279085159301758\n",
      "numpy array operation time taken:  0.006798744201660156\n"
     ]
    }
   ],
   "source": [
    "import time\n",
    "\n",
    "start=time.time()\n",
    "py_list=[ i*2 for i in range(100000)]\n",
    "print(\"python list operation time taken: \",time.time()-start)\n",
    "\n",
    "start=time.time()\n",
    "np_array=np.arange(100000)*2\n",
    "print(\"numpy array operation time taken: \",time.time()-start)\n"
   ]
  },
  {
   "cell_type": "markdown",
   "id": "c6c1f507",
   "metadata": {},
   "source": [
    "### Creating numpy array from scratch\n",
    "we should create array in same data types as well as matrices also"
   ]
  },
  {
   "cell_type": "code",
   "execution_count": 12,
   "id": "d2292817",
   "metadata": {},
   "outputs": [
    {
     "name": "stdout",
     "output_type": "stream",
     "text": [
      "zeros matrices: \n",
      " [[0. 0. 0. 0. 0. 0.]\n",
      " [0. 0. 0. 0. 0. 0.]\n",
      " [0. 0. 0. 0. 0. 0.]\n",
      " [0. 0. 0. 0. 0. 0.]\n",
      " [0. 0. 0. 0. 0. 0.]]\n",
      "ones matrices: \n",
      " [[1. 1. 1. 1. 1. 1.]\n",
      " [1. 1. 1. 1. 1. 1.]\n",
      " [1. 1. 1. 1. 1. 1.]\n",
      " [1. 1. 1. 1. 1. 1.]\n",
      " [1. 1. 1. 1. 1. 1.]]\n",
      "full matrices: \n",
      " [[7 7 7]\n",
      " [7 7 7]\n",
      " [7 7 7]]\n",
      "random matrices: \n",
      " [[0.98783432 0.87972557 0.11377218 0.74090473]\n",
      " [0.96330925 0.22543299 0.57393437 0.6756847 ]]\n",
      "zeros matrices: \n",
      " [[0. 0. 0. 0. 0. 0.]\n",
      " [0. 0. 0. 0. 0. 0.]\n",
      " [0. 0. 0. 0. 0. 0.]\n",
      " [0. 0. 0. 0. 0. 0.]\n",
      " [0. 0. 0. 0. 0. 0.]]\n",
      "sequence matrices: \n",
      " [ 0  2  4  6  8 10 12 14 16 18]\n"
     ]
    }
   ],
   "source": [
    "zeros=np.zeros((5,6))\n",
    "print(\"zeros matrices: \\n\",zeros)\n",
    "\n",
    "ones=np.ones((5,6))\n",
    "print(\"ones matrices: \\n\",ones)\n",
    "\n",
    "full=np.full((3,3),7)\n",
    "print(\"full matrices: \\n\",full)\n",
    "\n",
    "random=np.random.random((2,4))\n",
    "print(\"random matrices: \\n\",random)\n",
    "\n",
    "zeros=np.zeros((5,6))\n",
    "print(\"zeros matrices: \\n\",zeros)\n",
    "\n",
    "sequence=np.arange(0,20,2)\n",
    "print(\"sequence matrices: \\n\",sequence)"
   ]
  },
  {
   "cell_type": "markdown",
   "id": "037e4c94",
   "metadata": {},
   "source": [
    "### vector VS matrices VS tensor"
   ]
  },
  {
   "cell_type": "code",
   "execution_count": null,
   "id": "32ec566d",
   "metadata": {},
   "outputs": [
    {
     "name": "stdout",
     "output_type": "stream",
     "text": [
      "vector:\n",
      " [1 2 3 4]\n",
      "matrix:\n",
      " [['1' '2' '3' '4']\n",
      " ['a' 'b' 'c' 'd']]\n",
      "tensor:\n",
      " [[[ 1  2  3]\n",
      "  [ 4  5  6]]\n",
      "\n",
      " [[ 7  8  9]\n",
      "  [11 12 13]]]\n"
     ]
    }
   ],
   "source": [
    "vector =np.array([1,2,3,4])\n",
    "print(\"vector:\\n\",vector)\n",
    "\n",
    "matrix =np.array([[1,2,3,4],\n",
    "                  [5,6,7,8]])\n",
    "print(\"matrix:\\n\",matrix)\n",
    "\n",
    "tensor=np.array([\n",
    "    [[1,2,3],[4,5,6]],\n",
    "    [[7,8,9],[11,12,13]]\n",
    "])\n",
    "print(\"tensor:\\n\",tensor)"
   ]
  },
  {
   "cell_type": "markdown",
   "id": "feea4f88",
   "metadata": {},
   "source": [
    "### array properties"
   ]
  },
  {
   "cell_type": "code",
   "execution_count": 14,
   "id": "e2a95c94",
   "metadata": {},
   "outputs": [
    {
     "name": "stdout",
     "output_type": "stream",
     "text": [
      "size : 8\n",
      "shape : (2, 4)\n",
      "dimansion : 2\n",
      "type : int64\n"
     ]
    }
   ],
   "source": [
    "np_array=np.array([\n",
    "    [1,2,3,4],\n",
    "    [2,4,6,8]\n",
    "])\n",
    "print(\"size :\",np_array.size)\n",
    "print(\"shape :\",np_array.shape)\n",
    "print(\"dimansion :\",np_array.ndim)\n",
    "print(\"type :\",np_array.dtype)"
   ]
  },
  {
   "cell_type": "markdown",
   "id": "1950c4a5",
   "metadata": {},
   "source": [
    "### array reshaping"
   ]
  },
  {
   "cell_type": "code",
   "execution_count": 23,
   "id": "c5b0104b",
   "metadata": {},
   "outputs": [
    {
     "name": "stdout",
     "output_type": "stream",
     "text": [
      "original array:  [ 0  1  2  3  4  5  6  7  8  9 10 11]\n",
      "reshaped array:\n",
      " [[ 0  1  2  3]\n",
      " [ 4  5  6  7]\n",
      " [ 8  9 10 11]]\n",
      "flatten array: [ 0  1  2  3  4  5  6  7  8  9 10 11]\n",
      "ravel array: [ 0  1  2  3  4  5  6  7  8  9 10 11]\n",
      "transpose of array:\n",
      " [[ 0  4  8]\n",
      " [ 1  5  9]\n",
      " [ 2  6 10]\n",
      " [ 3  7 11]]\n"
     ]
    }
   ],
   "source": [
    "arr = np.arange(12)\n",
    "print(\"original array: \",arr)\n",
    "\n",
    "reshaped =arr.reshape((3,4))\n",
    "print(\"reshaped array:\\n\",reshaped)\n",
    "\n",
    "flatted=reshaped.flatten()\n",
    "print(\"flatten array:\",flatted)\n",
    "\n",
    "#ravel returns the views instead of copy\n",
    "revel=reshaped.ravel()\n",
    "print(\"ravel array:\",revel)\n",
    "\n",
    "transpose=reshaped.T\n",
    "print(\"transpose of array:\\n\",transpose)"
   ]
  }
 ],
 "metadata": {
  "kernelspec": {
   "display_name": "Python 3",
   "language": "python",
   "name": "python3"
  },
  "language_info": {
   "codemirror_mode": {
    "name": "ipython",
    "version": 3
   },
   "file_extension": ".py",
   "mimetype": "text/x-python",
   "name": "python",
   "nbconvert_exporter": "python",
   "pygments_lexer": "ipython3",
   "version": "3.9.6"
  }
 },
 "nbformat": 4,
 "nbformat_minor": 5
}
